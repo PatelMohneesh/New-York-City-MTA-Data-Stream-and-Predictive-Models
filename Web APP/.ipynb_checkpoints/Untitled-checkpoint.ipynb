{
 "cells": [
  {
   "cell_type": "code",
   "execution_count": 7,
   "metadata": {
    "collapsed": true
   },
   "outputs": [],
   "source": [
    "#function call: pred()\n",
    "#inputs: hour: int from [0-23]\n",
    "#outputs: \n",
    "#Option 1: Creates a text file in the same folder 'turnstile_pred.txt'\n",
    "#\t\t   Each line in text file: station_name , scale (range [0,5]), actual_value \n",
    "#Option2: Returns a list of length 4(will increase when functionality added for more stations)\n",
    "#\t\t  Each row in list: [station_name (str) , scale (int, range [0,5]), actual_value (int) ]\n",
    "\n",
    "flag_api=False\n",
    "\n",
    "from sklearn.externals import joblib\n",
    "import datetime\n",
    "import numpy as np\n",
    "from weatherRealTime3 import getCurrentWeather\n",
    "\n",
    "def pred(hr):\n",
    "    file = open('./turnstile_pred.txt','w')   \n",
    "    stations=['14st','34st','42st','59st', '72st', '116st']\n",
    "    results=[]\n",
    "    #prepare input feature\n",
    "    \n",
    "    if flag_api==False:\n",
    "        rain=np.asarray([0])\n",
    "        snow=np.asarray([0])\n",
    "        tempi=np.asarray([45])\n",
    "    else:\n",
    "        #get weather now\n",
    "        weather=getCurrentWeather()\n",
    "        rain=np.asarray([weather['rain']])\n",
    "        snow=np.asarray([weather['snow']])\n",
    "        tempi=np.asarray([weather['tempi']])\n",
    "    \n",
    "    curr_time=datetime.datetime.now()\n",
    "    curr_hour=hr#curr_time.hour \n",
    "    curr_day=curr_time.weekday()\n",
    "    curr_month=curr_time.month\n",
    "\n",
    "    #create vector\n",
    "    hour=np.zeros((24))\n",
    "    hour[curr_hour]=1\n",
    "    day=np.zeros((7))\n",
    "    day[curr_day]=1\n",
    "    month=np.zeros((12))\n",
    "    month[curr_month]=1\n",
    "    vec=np.concatenate((hour,day,month,rain,snow,tempi))\n",
    "    print(vec)\n",
    "    for name in stations:\n",
    "        #load saved model and params\n",
    "        model = joblib.load('./pickles/'+name+'_model.pkl') \n",
    "        params = joblib.load('./pickles/'+name+'_params.pkl') \n",
    "\n",
    "        pred=model.predict(vec.reshape(1,-1))\n",
    "        scale=np.round(pred)[0]\n",
    "        value=(((pred*params[1])/params[2])+params[0])[0]\n",
    "        results.append([name,int(scale),int(value)])\n",
    "    \n",
    "\n",
    "    c14_lat = 40.737826\n",
    "    c14_lon = -74.000201\n",
    "    c34_lat = 40.750373\n",
    "    c34_lon = -73.993391\n",
    "    c42_lat = 40.75529\n",
    "    c42_lon = -73.987495\n",
    "    c59_lat = 40.762526\n",
    "    c59_lon = -73.967967\n",
    "    c72_lat = 40.778453\n",
    "    c72_lon = -73.98197\n",
    "    c116_lat = 40.807722\n",
    "    c116_lon = -73.96411\n",
    "    \n",
    "    \n",
    "    results[0].append(c14_lat)\n",
    "    results[0].append(c14_lon)\n",
    "    \n",
    "    results[1].append(c34_lat)\n",
    "    results[1].append(c34_lon)\n",
    "    \n",
    "    results[2].append(c42_lat)\n",
    "    results[2].append(c42_lon)\n",
    "    \n",
    "    results[3].append(c59_lat)\n",
    "    results[3].append(c59_lon)\n",
    "    \n",
    "    results[4].append(c72_lat)\n",
    "    results[4].append(c72_lon)\n",
    "\n",
    "    results[5].append(c116_lat)\n",
    "    results[5].append(c116_lon)\n",
    "    \n",
    "    return( results) #Option2: comment if don't want this option \n",
    "    \n",
    " \n",
    "\n",
    "\n",
    "\n",
    "\n"
   ]
  },
  {
   "cell_type": "code",
   "execution_count": 8,
   "metadata": {
    "collapsed": false
   },
   "outputs": [
    {
     "name": "stdout",
     "output_type": "stream",
     "text": [
      "[  0.    0.    1.    0.    0.    0.    0.    0.    0.    0.    0.    0.\n",
      "   0.    0.    0.    0.    0.    0.    0.    0.    0.    0.    0.    0.\n",
      "   0.    0.    0.    1.    0.    0.    0.    0.    0.    0.    0.    0.\n",
      "   1.    0.    0.    0.    0.    0.    0.    0.    0.   52.3]\n"
     ]
    },
    {
     "data": {
      "text/plain": [
       "[['14st', 0, 1597, 40.737826, -74.000201],\n",
       " ['34st', 0, 3802, 40.750373, -73.993391],\n",
       " ['42st', 0, 3741, 40.75529, -73.987495],\n",
       " ['59st', 0, 2016, 40.762526, -73.967967],\n",
       " ['72st', 0, 253, 40.778453, -73.98197],\n",
       " ['116st', 0, 45, 40.807722, -73.96411]]"
      ]
     },
     "execution_count": 8,
     "metadata": {},
     "output_type": "execute_result"
    }
   ],
   "source": [
    "pred(2)"
   ]
  },
  {
   "cell_type": "code",
   "execution_count": null,
   "metadata": {
    "collapsed": true
   },
   "outputs": [],
   "source": []
  }
 ],
 "metadata": {
  "kernelspec": {
   "display_name": "Python 3",
   "language": "python",
   "name": "python3"
  },
  "language_info": {
   "codemirror_mode": {
    "name": "ipython",
    "version": 3
   },
   "file_extension": ".py",
   "mimetype": "text/x-python",
   "name": "python",
   "nbconvert_exporter": "python",
   "pygments_lexer": "ipython3",
   "version": "3.5.2"
  }
 },
 "nbformat": 4,
 "nbformat_minor": 1
}
